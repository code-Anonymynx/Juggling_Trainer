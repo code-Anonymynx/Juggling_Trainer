{
 "cells": [
  {
   "cell_type": "code",
   "execution_count": null,
   "id": "1df93e5f-698e-4efb-b38a-4cdc283dc350",
   "metadata": {},
   "outputs": [],
   "source": [
    "# Beginning of Games\n",
    "\n",
    "println(\"How is a 3-ball cascade noted in siteswap? \\n A - 300, \\n B - cascade \\n C - 333\")\n",
    "#Take single line user input from the user\n",
    "Answer = readline()\n",
    "\n",
    "if Answer == \"C\"\n",
    "    println(\"Correct! It's written as 3 or 333.\")\n",
    "elseif Answer == \"333\"\n",
    "    println(\"Correct! It's written as 3 or  333.\")\n",
    "elseif Answer == \"C - 333\"\n",
    "    println(\"Correct! It's written as 3 or  333.\")\n",
    "elseif Answer == \"3\"\n",
    "    println(\"Correct! It's written as 3 or  333.\")   \n",
    "else \n",
    "    println(\"Not quite! It's actually written 333.\")\n",
    "end"
   ]
  },
  {
   "cell_type": "code",
   "execution_count": null,
   "id": "0f4d036f-6bae-4616-a867-ed5259534f7d",
   "metadata": {},
   "outputs": [],
   "source": [
    "println(\"Is it possible to juggle 7 clubs? (Please enter 'Yes' OR 'No')\")\n",
    "Answer3 = readline()\n",
    "\n",
    "if Answer3 == \"Yes\"\n",
    "    println(\"You know it! But it takes a looooong time!\")\n",
    "else \n",
    "    println(\"Actually there are a number of jugglers across the globe who can juggle 7 clubs! Some can even juggle more.\")\n",
    "end"
   ]
  },
  {
   "cell_type": "code",
   "execution_count": null,
   "id": "72eceae3-b276-4519-8c2d-8e420ec2f5b8",
   "metadata": {},
   "outputs": [],
   "source": [
    "import Pkg; Pkg.add(\"ImageIO\")"
   ]
  },
  {
   "cell_type": "code",
   "execution_count": null,
   "id": "9eabba05",
   "metadata": {},
   "outputs": [],
   "source": [
    "using ImageIO\n",
    "using Base64\n",
    "using FileIO\n",
    "\n",
    "# Load an image file\n",
    "img = load(\"/Users/user/Documents/Coding Stuff/Juggling App/yoyo copy Small.jpeg\")\n",
    "\n",
    "# Create a temporary file path\n",
    "tmp_file = tempname() * \".jpeg\"\n",
    "\n",
    "# Save the image to the temporary file\n",
    "save(tmp_file, img)\n",
    "\n",
    "# Read the contents of the temporary file into an IOBuffer\n",
    "buffer = IOBuffer(read(tmp_file))\n",
    "\n",
    "# Convert the buffer content to base64-encoded string\n",
    "img_str = base64encode(String(take!(buffer)))\n",
    "\n",
    "# Display the image in a Jupyter notebook\n",
    "display(\"text/html\", \"<img src='data:image/jpeg;base64,$(img_str)'/>\")\n",
    "\n",
    "# Ask user a question based on the image above\n",
    "println(\"What is this juggling pattern called? \\n A - 423 \\n B - tracing my column \\n C - yoyo \\n\")\n",
    "Answer3 = readline()\n",
    "\n",
    "if Answer3 == \"C\"\n",
    "    println(\"Absolutely! It's most commonly called 'yoyo'\")\n",
    "elseif Answer3 == \"yoyo\"\n",
    "    println(\"Absolutely! It's most commonly called 'yoyo'\")\n",
    "elseif Answer3 == \"C - yoyo\"\n",
    "    println(\"Absolutely! It's most commonly called 'yoyo'\")\n",
    "else \n",
    "    println(\"Not quite! It's most commonly called 'yoyo'\")\n",
    "end\n"
   ]
  },
  {
   "cell_type": "code",
   "execution_count": null,
   "id": "b9b806f6-1eb9-4115-a85a-c77c5cb71294",
   "metadata": {},
   "outputs": [],
   "source": []
  }
 ],
 "metadata": {
  "kernelspec": {
   "display_name": "Julia 1.10.2",
   "language": "julia",
   "name": "julia-1.10"
  },
  "language_info": {
   "file_extension": ".jl",
   "mimetype": "application/julia",
   "name": "julia",
   "version": "1.10.2"
  }
 },
 "nbformat": 4,
 "nbformat_minor": 5
}
